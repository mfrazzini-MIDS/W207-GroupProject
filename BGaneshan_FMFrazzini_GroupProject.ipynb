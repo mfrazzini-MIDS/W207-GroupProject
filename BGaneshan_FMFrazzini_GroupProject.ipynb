{
 "cells": [
  {
   "cell_type": "markdown",
   "metadata": {},
   "source": [
    "# Group Project: Forest Cover Type Prediction"
   ]
  },
  {
   "cell_type": "markdown",
   "metadata": {},
   "source": [
    "In this project, you'll implement your own image recognition system for classifying digits. Read through the code and the instructions carefully and add your own code where indicated. Each problem can be addressed succinctly with the included packages -- please don't add any more. Grading will be based on writing clean, commented code, along with a few short answers.\n",
    "\n",
    "As always, you're welcome to work on the project in groups and discuss ideas on the course wall, but <b> please prepare your own write-up (with your own code). </b>\n",
    "\n",
    "If you're interested, check out these links related to digit recognition:\n",
    "\n",
    "Yann Lecun's MNIST benchmarks: http://yann.lecun.com/exdb/mnist/\n",
    "\n",
    "Stanford Streetview research and data: http://ufldl.stanford.edu/housenumbers/"
   ]
  },
  {
   "cell_type": "code",
   "execution_count": 195,
   "metadata": {
    "collapsed": true
   },
   "outputs": [],
   "source": [
    "# This tells matplotlib not to try opening a new window for each plot.\n",
    "%matplotlib inline\n",
    "\n",
    "# Import a bunch of libraries.\n",
    "import time\n",
    "import numpy as np\n",
    "import matplotlib.pyplot as plt\n",
    "from matplotlib.ticker import MultipleLocator\n",
    "from sklearn.pipeline import Pipeline\n",
    "from sklearn.datasets import fetch_mldata\n",
    "from sklearn.neighbors import KNeighborsClassifier\n",
    "from sklearn.metrics import confusion_matrix\n",
    "from sklearn.linear_model import LinearRegression\n",
    "from sklearn.naive_bayes import BernoulliNB\n",
    "from sklearn.naive_bayes import MultinomialNB\n",
    "from sklearn.naive_bayes import GaussianNB\n",
    "from sklearn.grid_search import GridSearchCV\n",
    "from sklearn.metrics import classification_report\n",
    "\n",
    "# Set the randomizer seed so results are the same each time.\n",
    "np.random.seed(0)"
   ]
  },
  {
   "cell_type": "markdown",
   "metadata": {},
   "source": [
    "Load the data. Notice that we are splitting the data into training, development, and test. We also have a small subset of the training data called mini_train_data and mini_train_labels that you should use in all the experiments below, unless otherwise noted."
   ]
  },
  {
   "cell_type": "code",
   "execution_count": 196,
   "metadata": {},
   "outputs": [
    {
     "name": "stdout",
     "output_type": "stream",
     "text": [
      "data shape:  (70000, 784)\n",
      "label shape: (70000,)\n"
     ]
    }
   ],
   "source": [
    "# Load the digit data either from mldata.org, or once downloaded to data_home, from disk. The data is about 53MB so this cell\n",
    "# should take a while the first time your run it.\n",
    "mnist = fetch_mldata('MNIST original', data_home='~/datasets/mnist')\n",
    "X, Y = mnist.data, mnist.target\n",
    "\n",
    "# Rescale grayscale values to [0,1].\n",
    "X = X / 255.0\n",
    "\n",
    "# Shuffle the input: create a random permutation of the integers between 0 and the number of data points and apply this\n",
    "# permutation to X and Y.\n",
    "# NOTE: Each time you run this cell, you'll re-shuffle the data, resulting in a different ordering.\n",
    "shuffle = np.random.permutation(np.arange(X.shape[0]))\n",
    "X, Y = X[shuffle], Y[shuffle]\n",
    "\n",
    "print ('data shape: ', X.shape)\n",
    "print ('label shape:', Y.shape)\n",
    "\n",
    "# Set some variables to hold test, dev, and training data.\n",
    "test_data, test_labels = X[61000:], Y[61000:]\n",
    "dev_data, dev_labels = X[60000:61000], Y[60000:61000]\n",
    "train_data, train_labels = X[:60000], Y[:60000]\n",
    "mini_train_data, mini_train_labels = X[:1000], Y[:1000]"
   ]
  },
  {
   "cell_type": "markdown",
   "metadata": {},
   "source": [
    "(1) Create a 10x10 grid to visualize 10 examples of each digit. Python hints:\n",
    "\n",
    "- plt.rc() for setting the colormap, for example to black and white\n",
    "- plt.subplot() for creating subplots\n",
    "- plt.imshow() for rendering a matrix\n",
    "- np.array.reshape() for reshaping a 1D feature vector into a 2D matrix (for rendering)"
   ]
  },
  {
   "cell_type": "code",
   "execution_count": 197,
   "metadata": {},
   "outputs": [
    {
     "data": {
      "image/png": "[encoded data removed]",
      "text/plain": [
       "<matplotlib.figure.Figure at 0x173074b1048>"
      ]
     },
     "metadata": {},
     "output_type": "display_data"
    }
   ],
   "source": [
    "def P1(num_examples=10):\n",
    "\n",
    "### STUDENT START ###\n",
    "    # Create 10*10 subplot array\n",
    "    fig, axes = plt.subplots(num_examples,num_examples)\n",
    "    # Setup 10*10 with 2 for loops; outer sequenced by x then inner sequenced by y\n",
    "    for x in range(0, num_examples):\n",
    "        # Initialize/reset integer index for iterating through test data\n",
    "        i = 0\n",
    "        for y in range(0, num_examples):\n",
    "            # Tracker initialize/reset for when outer loop sequence/indexed digit found\n",
    "            digit_found = 0\n",
    "            # While condition for test data iteration\n",
    "            while digit_found == 0:\n",
    "                # Looking for when test data label matches outer loop index (i.e. 0-9)\n",
    "                if int(mini_train_labels[i]) ==  x:\n",
    "                    # Convert test data vector to 2 dimensional matrix for rendering\n",
    "                    two_d = (np.reshape(mini_train_data[i], (28, 28)) * 255).astype(np.uint8)\n",
    "                    # Set approprirate subplot with black and white rendering\n",
    "                    axes[x,y].imshow(two_d, cmap='Greys', interpolation='nearest')\n",
    "                    axes[x,y].axis('off')\n",
    "                    # Indicate the digit found to reset while iteration\n",
    "                    digit_found += 1\n",
    "                # Sequence the train data index\n",
    "                i += 1\n",
    "    # Show the plot and subplots\n",
    "    plt.show()\n",
    "### STUDENT END ###\n",
    "\n",
    "P1(10)"
   ]
  },
  {
   "cell_type": "markdown",
   "metadata": {},
   "source": [
    "(2) Evaluate a K-Nearest-Neighbors model with k = [1,3,5,7,9] using the mini training set. Report accuracy on the dev set. For k=1, show precision, recall, and F1 for each label. Which is the most difficult digit?\n",
    "\n",
    "- KNeighborsClassifier() for fitting and predicting\n",
    "- classification_report() for producing precision, recall, F1 results"
   ]
  },
  {
   "cell_type": "code",
   "execution_count": 198,
   "metadata": {},
   "outputs": [
    {
     "name": "stdout",
     "output_type": "stream",
     "text": [
      "k= 1 model accuracy: 87.4 % ( 112 wrong and  888 right).\n",
      "for k=1              precision    recall  f1-score   support\n",
      "\n",
      "        0.0       0.91      0.98      0.94        99\n",
      "        1.0       0.89      1.00      0.94       105\n",
      "        2.0       0.99      0.79      0.88       102\n",
      "        3.0       0.77      0.87      0.82        86\n",
      "        4.0       0.89      0.82      0.85       104\n",
      "        5.0       0.93      0.84      0.88        91\n",
      "        6.0       0.94      0.96      0.95        98\n",
      "        7.0       0.89      0.92      0.90       113\n",
      "        8.0       0.94      0.88      0.91        96\n",
      "        9.0       0.78      0.82      0.80       106\n",
      "\n",
      "avg / total       0.89      0.89      0.89      1000\n",
      "\n",
      "k= 3 model accuracy: 86.1 % ( 122 wrong and  878 right).\n",
      "k= 5 model accuracy: 84.9 % ( 131 wrong and  869 right).\n",
      "k= 7 model accuracy: 84.4 % ( 135 wrong and  865 right).\n",
      "k= 9 model accuracy: 84.1 % ( 137 wrong and  863 right).\n"
     ]
    }
   ],
   "source": [
    "def P2(k_values):\n",
    "\n",
    "### STUDENT START ###\n",
    "    # Iterate through list and create K-Nearest-Neighbors model fit with mini training set.\n",
    "    for k in k_values:\n",
    "        model = KNeighborsClassifier(n_neighbors=k)\n",
    "        model.fit(mini_train_data, mini_train_labels)\n",
    "        # Apply the model to the dev set.\n",
    "        predicted_labels = model.predict(dev_data)\n",
    "        # Calculate and print the accuracy of the model based on number wrong / number right\n",
    "        wrong_prediction = (predicted_labels != dev_labels)\n",
    "        right_prediction = (predicted_labels == dev_labels)\n",
    "        print('k=', k, 'model accuracy:', round(1-(np.sum(wrong_prediction)/np.sum(right_prediction)),3)*100, '%', \\\n",
    "             '(', np.sum(wrong_prediction), 'wrong and ', np.sum(right_prediction), 'right).')\n",
    "        # For k=1, show precision, recall, and F1 for each label.\n",
    "        if k == 1:\n",
    "            print('for k=1',classification_report(dev_labels, predicted_labels))  \n",
    "### STUDENT END ###\n",
    "\n",
    "k_values = [1, 3, 5, 7, 9]\n",
    "P2(k_values)"
   ]
  },
  {
   "cell_type": "markdown",
   "metadata": {},
   "source": [
    "ANSWER:  The most difficult digit is the 9 because the F1-Score (harmonic mean of precision and recall) is the lowest and also since recall (percentage of relevant instances that have been retrieved over the total amount of relevant instances) is also the lowest (although tied with the 4 digit). This seems intuitive as well since a 9 can be similar to, and mistaken for, several other numbers. The 3 digit is a close second in terms of difficulty and does have the lowest precision (percentage of relevant instances among the retrieved instances)."
   ]
  },
  {
   "cell_type": "markdown",
   "metadata": {},
   "source": [
    "(3) Using k=1, report dev set accuracy for the training set sizes below. Also, measure the amount of time needed for prediction with each training size.\n",
    "\n",
    "- time.time() gives a wall clock value you can use for timing operations"
   ]
  },
  {
   "cell_type": "code",
   "execution_count": 199,
   "metadata": {},
   "outputs": [
    {
     "name": "stdout",
     "output_type": "stream",
     "text": [
      "Training time in seconds for training size  100 :  0.1168\n",
      "Training size 100 model accuracy: 61.1 % ( 280 wrong and  720 right).\n",
      "Training time in seconds for training size  200 :  0.2211\n",
      "Training size 200 model accuracy: 72.8 % ( 214 wrong and  786 right).\n",
      "Training time in seconds for training size  400 :  0.4455\n",
      "Training size 400 model accuracy: 81.1 % ( 159 wrong and  841 right).\n",
      "Training time in seconds for training size  800 :  0.911\n",
      "Training size 800 model accuracy: 86.9 % ( 116 wrong and  884 right).\n",
      "Training time in seconds for training size  1600 :  1.8606\n",
      "Training size 1600 model accuracy: 89.1 % ( 98 wrong and  902 right).\n",
      "Training time in seconds for training size  3200 :  3.4638\n",
      "Training size 3200 model accuracy: 92.0 % ( 74 wrong and  926 right).\n",
      "Training time in seconds for training size  6400 :  6.9084\n",
      "Training size 6400 model accuracy: 93.3 % ( 63 wrong and  937 right).\n",
      "Training time in seconds for training size  12800 :  13.8071\n",
      "Training size 12800 model accuracy: 95.7 % ( 41 wrong and  959 right).\n",
      "Training time in seconds for training size  25000 :  29.7529\n",
      "Training size 25000 model accuracy: 96.9 % ( 30 wrong and  970 right).\n"
     ]
    }
   ],
   "source": [
    "def P3(train_sizes, accuracies):\n",
    "\n",
    "### STUDENT START ###\n",
    "    for x in train_sizes:\n",
    "        model = KNeighborsClassifier(n_neighbors=1)\n",
    "        model.fit(train_data[:x], train_labels[:x])\n",
    "        # Apply the model to the dev set.\n",
    "        start_time=time.time()\n",
    "        predicted_labels = model.predict(dev_data)\n",
    "        end_time=time.time()\n",
    "        print('Training time in seconds for training size ', x, ': ',round(end_time-start_time,4))\n",
    "        # Calculate and print the accuracy of the model based on number wrong / number right\n",
    "        wrong_prediction = (predicted_labels != dev_labels)\n",
    "        right_prediction = (predicted_labels == dev_labels)\n",
    "        print('Training size', x, 'model accuracy:', round(1-(np.sum(wrong_prediction)/np.sum(right_prediction)),3)*100, '%', \\\n",
    "             '(', np.sum(wrong_prediction), 'wrong and ', np.sum(right_prediction), 'right).')\n",
    "        accuracies.append((round(1-(np.sum(wrong_prediction)/np.sum(right_prediction)),5)))\n",
    "### STUDENT END ###\n",
    "\n",
    "train_sizes = [100, 200, 400, 800, 1600, 3200, 6400, 12800, 25000]\n",
    "accuracies = []\n",
    "P3(train_sizes, accuracies)"
   ]
  },
  {
   "cell_type": "markdown",
   "metadata": {},
   "source": [
    "(4) Fit a regression model that predicts accuracy from training size. What does it predict for n=60000? What's wrong with using regression here? Can you apply a transformation that makes the predictions more reasonable?\n",
    "\n",
    "- Remember that the sklearn fit() functions take an input matrix X and output vector Y. So each input example in X is a vector, even if it contains only a single value."
   ]
  },
  {
   "cell_type": "code",
   "execution_count": 200,
   "metadata": {},
   "outputs": [
    {
     "name": "stdout",
     "output_type": "stream",
     "text": [
      "Estimated function: y = 0.80524 + 0.00001x\n",
      "When train size = 60000, accuracy = 133.03%\n"
     ]
    },
    {
     "data": {
      "image/png": "[encoded data removed]",
      "text/plain": [
       "<matplotlib.figure.Figure at 0x17306747080>"
      ]
     },
     "metadata": {},
     "output_type": "display_data"
    },
    {
     "name": "stdout",
     "output_type": "stream",
     "text": [
      "Estimated function: y = 0.42477 + 0.05825x\n",
      "When train size = log(60000), accuracy = 106.56%\n"
     ]
    },
    {
     "data": {
      "image/png": "[encoded data removed]",
      "text/plain": [
       "<matplotlib.figure.Figure at 0x17306524cf8>"
      ]
     },
     "metadata": {},
     "output_type": "display_data"
    }
   ],
   "source": [
    "def P4():\n",
    "\n",
    "### STUDENT START ###\n",
    "    # Create scatter plot to illustrate training and accuracy relationship\n",
    "    plt.scatter(train_sizes, accuracies, label=\"Accuracy for Training Size\")\n",
    "    plt.xlabel('Training Size')\n",
    "    plt.ylabel('Accuracy')\n",
    "    # Create numpy arrays for X, Y\n",
    "    X = np.array(train_sizes)\n",
    "    Y = np.array(accuracies)\n",
    "    # Create Linear Regression model and fit linear model, print results\n",
    "    lr = LinearRegression(fit_intercept=True)\n",
    "    lr.fit(X.reshape(-1,1), Y.reshape(-1,1))\n",
    "    print ('Estimated function: y = %.5f + %.5fx' %(lr.intercept_, lr.coef_))\n",
    "    # Predict accuracy when training size is 60000\n",
    "    print ('When train size = 60000, accuracy = %.2f%%' %((lr.intercept_+(60000*lr.coef_))*100))\n",
    "    # Plot and show model and legend\n",
    "    accuracy_y_pred = lr.predict(X.reshape(-1,1))\n",
    "    plt.plot(X, accuracy_y_pred, color='blue', linewidth=3, label=\"Linear Model\")\n",
    "    plt.legend(loc='best')\n",
    "    plt.show()\n",
    "    # Repeat above by apply logarithmic transform to training sizes\n",
    "    #\n",
    "    # Create numpy array for log X\n",
    "    log_X = np.log(np.array(train_sizes))\n",
    "    # Create scatter plot to illustrate accuracy and log(training) relationship\n",
    "    plt.scatter(log_X, accuracies, label=\"Accuracy for log(Training Size)\")\n",
    "    plt.xlabel('log(Training Size)')\n",
    "    plt.ylabel('Accuracy')\n",
    "    # Create Linear Regression model and fit linear model, print results\n",
    "    lr = LinearRegression(fit_intercept=True)\n",
    "    lr.fit(log_X.reshape(-1,1), Y.reshape(-1,1))\n",
    "    print ('Estimated function: y = %.5f + %.5fx' %(lr.intercept_, lr.coef_))\n",
    "    # Predict accuracy when training size is 60000\n",
    "    print ('When train size = log(60000), accuracy = %.2f%%' %((lr.intercept_+(np.log(60000)*lr.coef_))*100))\n",
    "    # Plot and show model and legend\n",
    "    accuracy_y_pred = lr.predict(log_X.reshape(-1,1))\n",
    "    plt.plot(log_X, accuracy_y_pred, color='blue', linewidth=3, label=\"Linear Model\")\n",
    "    plt.legend(loc='best')\n",
    "    plt.show()\n",
    "### STUDENT END ###\n",
    "\n",
    "P4()"
   ]
  },
  {
   "cell_type": "markdown",
   "metadata": {},
   "source": [
    "ANSWER:  When training size = 60000, the model predicts accuracy = 133.03%. Linear Regression is problematic in this example becuase, as you can see in the first plot, the data is curvilinear. Applying a logistic transform to the training sizes produces a production that is much more reasonable.  At a training size of log(60000), the model predicts accuracy = 106.56%."
   ]
  },
  {
   "cell_type": "markdown",
   "metadata": {},
   "source": [
    "Fit a 1-NN and output a confusion matrix for the dev data. Use the confusion matrix to identify the most confused pair of digits, and display a few example mistakes.\n",
    "\n",
    "- confusion_matrix() produces a confusion matrix"
   ]
  },
  {
   "cell_type": "code",
   "execution_count": 201,
   "metadata": {},
   "outputs": [
    {
     "name": "stdout",
     "output_type": "stream",
     "text": [
      "Confusion Matrix for 0 to 9 Classification\n",
      "  (y axis =True, x axis=Predicted)\n",
      "[[ 97   0   0   0   0   0   2   0   0   0]\n",
      " [  0 105   0   0   0   0   0   0   0   0]\n",
      " [  4   4  81   4   0   0   0   4   3   2]\n",
      " [  1   0   0  75   0   3   0   3   1   3]\n",
      " [  0   2   0   0  85   0   3   0   0  14]\n",
      " [  2   0   0   9   0  76   0   1   1   2]\n",
      " [  1   1   1   0   1   0  94   0   0   0]\n",
      " [  1   4   0   1   1   0   0 104   0   2]\n",
      " [  0   2   0   5   0   2   1   0  84   2]\n",
      " [  1   0   0   3   9   1   0   5   0  87]]\n",
      "\n",
      "While 3 has relatively decent recall on dev data, the confusion matrix shows lower precision and False Postivies:\n"
     ]
    },
    {
     "data": {
      "image/png": "[encoded data removed]",
      "text/plain": [
       "<matplotlib.figure.Figure at 0x1730d8b9550>"
      ]
     },
     "metadata": {},
     "output_type": "display_data"
    },
    {
     "name": "stdout",
     "output_type": "stream",
     "text": [
      "\n",
      "While 2 has near perfect precision on dev data, the confusion matrix shows much lower recall and False Negatives (other digits predicted as 2s):\n"
     ]
    },
    {
     "data": {
      "image/png": "[encoded data removed]",
      "text/plain": [
       "<matplotlib.figure.Figure at 0x173055185f8>"
      ]
     },
     "metadata": {},
     "output_type": "display_data"
    }
   ],
   "source": [
    "def P5():\n",
    "\n",
    "### STUDENT START ###\n",
    "    # Create 1-Nearest-Neighbors model fit with training set.\n",
    "    model = KNeighborsClassifier(n_neighbors=1)\n",
    "    model.fit(mini_train_data, mini_train_labels)\n",
    "    # Apply the model to the dev set.\n",
    "    predicted_labels = model.predict(dev_data)\n",
    "    #print(classification_report(dev_labels, predicted_labels))\n",
    "    # Generate and print a confusion matrix for dev data prediction.\n",
    "    print('Confusion Matrix for 0 to 9 Classification')\n",
    "    print('  (y axis =True, x axis=Predicted)')\n",
    "    print(confusion_matrix(dev_labels,predicted_labels))\n",
    "    # Select and print mistake examples of FP and FN digits\n",
    "    print('\\nWhile 3 has relatively decent recall on dev data, the confusion matrix shows lower precision and False Postivies:')\n",
    "    FP = dev_data[np.array(predicted_labels == 3.0) & np.array(dev_labels != 3.0)]\n",
    "    fig, axes = plt.subplots(1,10)\n",
    "    for i in range(0, 10):\n",
    "        # Convert data vector to 2 dimensional matrix for rendering\n",
    "        two_d = (np.reshape(FP[i], (28, 28)) * 255).astype(np.uint8)\n",
    "        # Set approprirate subplot with black and white rendering\n",
    "        axes[i].imshow(two_d, cmap='Greys', interpolation='nearest')\n",
    "        axes[i].axis('off')\n",
    "    plt.show()\n",
    "    print('\\nWhile 2 has near perfect precision on dev data, the confusion matrix shows much lower recall and False Negatives (other digits predicted as 2''s):')\n",
    "    FN = dev_data[np.array(predicted_labels != 2.0) & np.array(dev_labels == 2.0)]\n",
    "    fig2, axes2 = plt.subplots(1,10)\n",
    "    for j in range(0, 10):\n",
    "        # Convert data vector to 2 dimensional matrix for rendering\n",
    "        two_d = (np.reshape(FN[j], (28, 28)) * 255).astype(np.uint8)\n",
    "        # Set approprirate subplot with black and white rendering\n",
    "        axes2[j].imshow(two_d, cmap='Greys', interpolation='nearest', label='Predicted')\n",
    "        axes2[j].axis('off')\n",
    "    plt.show()\n",
    "### STUDENT END ###\n",
    "\n",
    "P5()"
   ]
  },
  {
   "cell_type": "markdown",
   "metadata": {},
   "source": [
    "(6) A common image processing technique is to smooth an image by blurring. The idea is that the value of a particular pixel is estimated as the weighted combination of the original value and the values around it. Typically, the blurring is Gaussian -- that is, the weight of a pixel's influence is determined by a Gaussian function over the distance to the relevant pixel.\n",
    "\n",
    "Implement a simplified Gaussian blur by just using the 8 neighboring pixels: the smoothed value of a pixel is a weighted combination of the original value and the 8 neighboring values. Try applying your blur filter in 3 ways:\n",
    "- preprocess the training data but not the dev data\n",
    "- preprocess the dev data but not the training data\n",
    "- preprocess both training and dev data\n",
    "\n",
    "Note that there are Guassian blur filters available, for example in scipy.ndimage.filters. You're welcome to experiment with those, but you are likely to get the best results with the simplified version I described above."
   ]
  },
  {
   "cell_type": "code",
   "execution_count": 202,
   "metadata": {},
   "outputs": [
    {
     "name": "stdout",
     "output_type": "stream",
     "text": [
      "Non blurred examples:\n"
     ]
    },
    {
     "data": {
      "image/png": "[encoded data removed]",
      "text/plain": [
       "<matplotlib.figure.Figure at 0x173163125f8>"
      ]
     },
     "metadata": {},
     "output_type": "display_data"
    },
    {
     "name": "stdout",
     "output_type": "stream",
     "text": [
      "Gaussian blurred examples:\n"
     ]
    },
    {
     "data": {
      "image/png": "[encoded data removed]",
      "text/plain": [
       "<matplotlib.figure.Figure at 0x1730a4b0940>"
      ]
     },
     "metadata": {},
     "output_type": "display_data"
    },
    {
     "name": "stdout",
     "output_type": "stream",
     "text": [
      "Blurred training data but not the dev data\n",
      "Confusion Matrix for 0 to 9 Classification\n",
      "  (y axis =True, x axis=Predicted)\n",
      "[[ 97   0   0   0   0   0   2   0   0   0]\n",
      " [  0 104   1   0   0   0   0   0   0   0]\n",
      " [  4   3  81   4   0   0   0   4   4   2]\n",
      " [  1   0   1  68   0   5   1   2   4   4]\n",
      " [  0   0   0   0  91   0   2   0   1  10]\n",
      " [  2   0   0   8   1  74   1   2   2   1]\n",
      " [  1   1   1   0   1   0  94   0   0   0]\n",
      " [  1   2   0   2   0   0   0 107   0   1]\n",
      " [  0   1   0   1   0   1   0   0  91   2]\n",
      " [  1   0   0   2   6   1   0   4   1  91]]\n",
      "             precision    recall  f1-score   support\n",
      "\n",
      "        0.0       0.91      0.98      0.94        99\n",
      "        1.0       0.94      0.99      0.96       105\n",
      "        2.0       0.96      0.79      0.87       102\n",
      "        3.0       0.80      0.79      0.80        86\n",
      "        4.0       0.92      0.88      0.90       104\n",
      "        5.0       0.91      0.81      0.86        91\n",
      "        6.0       0.94      0.96      0.95        98\n",
      "        7.0       0.90      0.95      0.92       113\n",
      "        8.0       0.88      0.95      0.91        96\n",
      "        9.0       0.82      0.86      0.84       106\n",
      "\n",
      "avg / total       0.90      0.90      0.90      1000\n",
      "\n",
      "Blurred dev data but not the training data\n",
      "Confusion Matrix for 0 to 9 Classification\n",
      "  (y axis =True, x axis=Predicted)\n",
      "[[ 97   0   0   0   0   0   2   0   0   0]\n",
      " [  0 104   1   0   0   0   0   0   0   0]\n",
      " [  3   5  83   4   0   1   0   3   2   1]\n",
      " [  1   1   1  70   0   6   0   3   1   3]\n",
      " [  0   2   0   0  85   0   3   0   0  14]\n",
      " [  0   0   0   9   0  79   0   1   1   1]\n",
      " [  1   3   0   0   1   0  93   0   0   0]\n",
      " [  0   5   1   2   0   1   0 104   0   0]\n",
      " [  0   4   0   8   0   2   1   1  77   3]\n",
      " [  1   0   0   3   5   1   0   3   0  93]]\n",
      "             precision    recall  f1-score   support\n",
      "\n",
      "        0.0       0.94      0.98      0.96        99\n",
      "        1.0       0.84      0.99      0.91       105\n",
      "        2.0       0.97      0.81      0.88       102\n",
      "        3.0       0.73      0.81      0.77        86\n",
      "        4.0       0.93      0.82      0.87       104\n",
      "        5.0       0.88      0.87      0.87        91\n",
      "        6.0       0.94      0.95      0.94        98\n",
      "        7.0       0.90      0.92      0.91       113\n",
      "        8.0       0.95      0.80      0.87        96\n",
      "        9.0       0.81      0.88      0.84       106\n",
      "\n",
      "avg / total       0.89      0.89      0.89      1000\n",
      "\n",
      "Blurred dev data and the training data\n",
      "Confusion Matrix for 0 to 9 Classification\n",
      "  (y axis =True, x axis=Predicted)\n",
      "[[ 97   0   0   0   0   0   2   0   0   0]\n",
      " [  0 104   1   0   0   0   0   0   0   0]\n",
      " [  4   3  83   3   0   0   1   3   3   2]\n",
      " [  2   1   1  68   0   5   0   3   2   4]\n",
      " [  0   0   0   0  87   0   3   0   1  13]\n",
      " [  1   0   0   9   0  76   1   2   1   1]\n",
      " [  1   2   0   0   1   0  94   0   0   0]\n",
      " [  0   4   1   2   0   1   0 104   0   1]\n",
      " [  1   1   0   1   0   1   0   0  90   2]\n",
      " [  1   0   0   2   6   1   0   3   1  92]]\n",
      "             precision    recall  f1-score   support\n",
      "\n",
      "        0.0       0.91      0.98      0.94        99\n",
      "        1.0       0.90      0.99      0.95       105\n",
      "        2.0       0.97      0.81      0.88       102\n",
      "        3.0       0.80      0.79      0.80        86\n",
      "        4.0       0.93      0.84      0.88       104\n",
      "        5.0       0.90      0.84      0.87        91\n",
      "        6.0       0.93      0.96      0.94        98\n",
      "        7.0       0.90      0.92      0.91       113\n",
      "        8.0       0.92      0.94      0.93        96\n",
      "        9.0       0.80      0.87      0.83       106\n",
      "\n",
      "avg / total       0.90      0.90      0.89      1000\n",
      "\n"
     ]
    }
   ],
   "source": [
    "def P6():\n",
    "    \n",
    "### STUDENT START ###\n",
    "    # Import scipy Gaussian blur filter\n",
    "    from scipy.ndimage import gaussian_filter\n",
    "    \n",
    "    # Testing Gaussian blur on training data with display\n",
    "    blur_train_data = np.array(mini_train_data)\n",
    "    for train_digit in range (0, len(blur_train_data)):\n",
    "        blur_train_data[train_digit] = gaussian_filter(blur_train_data[train_digit],sigma=1)\n",
    "    print('Non blurred examples:')\n",
    "    fig, axes = plt.subplots(1,10)\n",
    "    for i in range(0,10):\n",
    "        # Convert data vector to 2 dimensional matrix for rendering\n",
    "        two_d = (np.reshape(mini_train_data[i], (28, 28)) * 255).astype(np.uint8)\n",
    "        # Set approprirate subplot with black and white rendering\n",
    "        axes[i].imshow(two_d, cmap='Greys', interpolation='nearest', label='Predicted')\n",
    "        axes[i].axis('off')\n",
    "    plt.show()\n",
    "    print('Gaussian blurred examples:')\n",
    "    fig2, axes2 = plt.subplots(1,10)\n",
    "    for j in range(0,10):\n",
    "        # Convert data vector to 2 dimensional matrix for rendering\n",
    "        two_d = (np.reshape(blur_train_data[j], (28, 28)) * 255).astype(np.uint8)\n",
    "        # Set approprirate subplot with black and white rendering\n",
    "        axes2[j].imshow(two_d, cmap='Greys', interpolation='nearest', label='Predicted')\n",
    "        axes2[j].axis('off')\n",
    "    plt.show()\n",
    "    \n",
    "    # Preprocess the training data but not the dev data\n",
    "    # blur training data\n",
    "    blur_train_data = np.array(mini_train_data)\n",
    "    for train_digit in range (0, len(blur_train_data)):\n",
    "        blur_train_data[train_digit] = gaussian_filter(blur_train_data[train_digit],sigma=1)\n",
    "    # Create 1-Nearest-Neighbors model fit with training set.\n",
    "    model = KNeighborsClassifier(n_neighbors=1)\n",
    "    model.fit(blur_train_data, mini_train_labels)\n",
    "    # Apply the model to the dev set.\n",
    "    predicted_labels = model.predict(dev_data)\n",
    "    #print(classification_report(dev_labels, predicted_labels))\n",
    "    # Generate and print a confusion matrix for dev data prediction.\n",
    "    print('Blurred training data but not the dev data')\n",
    "    print('Confusion Matrix for 0 to 9 Classification')\n",
    "    print('  (y axis =True, x axis=Predicted)')\n",
    "    print(confusion_matrix(dev_labels,predicted_labels))\n",
    "    print(classification_report(dev_labels, predicted_labels))\n",
    "        \n",
    "    # Preprocess the dev data but not the training data\n",
    "    # blur dev data\n",
    "    blur_dev_data = np.array(dev_data)\n",
    "    for dev_digit in range (0, len(blur_dev_data)):\n",
    "        blur_dev_data[dev_digit] = gaussian_filter(blur_dev_data[dev_digit],sigma=1) \n",
    "    # Create 1-Nearest-Neighbors model fit with training set.\n",
    "    model = KNeighborsClassifier(n_neighbors=1)\n",
    "    model.fit(mini_train_data, mini_train_labels)\n",
    "    # Apply the model to the dev set.\n",
    "    predicted_labels = model.predict(blur_dev_data)\n",
    "    #print(classification_report(dev_labels, predicted_labels))\n",
    "    # Generate and print a confusion matrix for dev data prediction.\n",
    "    print('Blurred dev data but not the training data')\n",
    "    print('Confusion Matrix for 0 to 9 Classification')\n",
    "    print('  (y axis =True, x axis=Predicted)')\n",
    "    print(confusion_matrix(dev_labels,predicted_labels))\n",
    "    print(classification_report(dev_labels, predicted_labels))\n",
    "    \n",
    "    # Preprocess the training data and the dev data\n",
    "    # Create 1-Nearest-Neighbors model fit with training set.\n",
    "    model = KNeighborsClassifier(n_neighbors=1)\n",
    "    model.fit(blur_train_data, mini_train_labels)\n",
    "    # Apply the model to the dev set.\n",
    "    predicted_labels = model.predict(blur_dev_data)\n",
    "    #print(classification_report(dev_labels, predicted_labels))\n",
    "    # Generate and print a confusion matrix for dev data prediction.\n",
    "    print('Blurred dev data and the training data')\n",
    "    print('Confusion Matrix for 0 to 9 Classification')\n",
    "    print('  (y axis =True, x axis=Predicted)')\n",
    "    print(confusion_matrix(dev_labels,predicted_labels))\n",
    "    print(classification_report(dev_labels, predicted_labels))\n",
    "    \n",
    "    #binarized_train_data = np.where(mini_train_data>0,1,0)\n",
    "### STUDENT END ###\n",
    "\n",
    "P6()"
   ]
  },
  {
   "cell_type": "markdown",
   "metadata": {},
   "source": [
    "ANSWER:  Applying the Gaussian blur to the training set (mini) but not the dev set was an improvement over the same 1-NN model in P2 without any blurring, achieiving an f1-score of 90 vs. 89.  The other combinations of blurring; training set not blurred but dev set blurred; and blurring of both the training and dev sets did not improve results over the same 1-NN model in P2.  I suppose that the improvement with blurring of the training but not the dev set occurs because it makes the training of the model more sensitive.  When both the training set and the dev set are blurred it appears to be a wash providing no materially beneficial effect."
   ]
  },
  {
   "cell_type": "markdown",
   "metadata": {},
   "source": [
    "(7) Fit a Naive Bayes classifier and report accuracy on the dev data. Remember that Naive Bayes estimates P(feature|label). While sklearn can handle real-valued features, let's start by mapping the pixel values to either 0 or 1. You can do this as a preprocessing step, or with the binarize argument. With binary-valued features, you can use BernoulliNB. Next try mapping the pixel values to 0, 1, or 2, representing white, grey, or black. This mapping requires MultinomialNB. Does the multi-class version improve the results? Why or why not?"
   ]
  },
  {
   "cell_type": "code",
   "execution_count": 203,
   "metadata": {},
   "outputs": [
    {
     "name": "stdout",
     "output_type": "stream",
     "text": [
      "Bernoulli Naive Bayes, manually binarized:\n",
      "             precision    recall  f1-score   support\n",
      "\n",
      "        0.0       0.88      0.97      0.92        99\n",
      "        1.0       0.86      0.96      0.91       105\n",
      "        2.0       0.87      0.78      0.82       102\n",
      "        3.0       0.63      0.74      0.68        86\n",
      "        4.0       0.89      0.78      0.83       104\n",
      "        5.0       0.81      0.63      0.71        91\n",
      "        6.0       0.87      0.89      0.88        98\n",
      "        7.0       0.91      0.76      0.83       113\n",
      "        8.0       0.74      0.77      0.76        96\n",
      "        9.0       0.72      0.84      0.77       106\n",
      "\n",
      "avg / total       0.82      0.81      0.81      1000\n",
      "\n",
      "Bernoulli Naive Bayes version:\n",
      "             precision    recall  f1-score   support\n",
      "\n",
      "        0.0       0.88      0.97      0.92        99\n",
      "        1.0       0.86      0.96      0.91       105\n",
      "        2.0       0.87      0.78      0.82       102\n",
      "        3.0       0.63      0.74      0.68        86\n",
      "        4.0       0.89      0.78      0.83       104\n",
      "        5.0       0.81      0.63      0.71        91\n",
      "        6.0       0.87      0.89      0.88        98\n",
      "        7.0       0.91      0.76      0.83       113\n",
      "        8.0       0.74      0.77      0.76        96\n",
      "        9.0       0.72      0.84      0.77       106\n",
      "\n",
      "avg / total       0.82      0.81      0.81      1000\n",
      "\n",
      "Multi-Class Naive Bayes version:\n",
      "             precision    recall  f1-score   support\n",
      "\n",
      "        0.0       0.89      0.96      0.92        99\n",
      "        1.0       0.84      0.97      0.90       105\n",
      "        2.0       0.85      0.75      0.80       102\n",
      "        3.0       0.59      0.69      0.63        86\n",
      "        4.0       0.91      0.67      0.77       104\n",
      "        5.0       0.83      0.54      0.65        91\n",
      "        6.0       0.86      0.89      0.87        98\n",
      "        7.0       0.94      0.75      0.84       113\n",
      "        8.0       0.68      0.73      0.70        96\n",
      "        9.0       0.61      0.87      0.72       106\n",
      "\n",
      "avg / total       0.80      0.79      0.79      1000\n",
      "\n"
     ]
    }
   ],
   "source": [
    "def P7():\n",
    "\n",
    "### STUDENT START ###\n",
    "    #\n",
    "    # Bernoulli Naive Bayes, manually binarized\n",
    "    #\n",
    "    print('Bernoulli Naive Bayes, manually binarized:')\n",
    "    # \"Manually\" binarize\n",
    "    binarized_train_data = np.where(mini_train_data>0,1,0)\n",
    "    #print(binarized_train_data[0,:])\n",
    "    # Create model, fit, and predict\n",
    "    nb = BernoulliNB(alpha = 1)\n",
    "    nb.fit(binarized_train_data, mini_train_labels)\n",
    "    nb_predictions = nb.predict(dev_data)\n",
    "    # Evaluate results\n",
    "    print(classification_report(dev_labels, nb_predictions))\n",
    "    #\n",
    "    # Bernoulli Naive Bayes, binarized\n",
    "    #\n",
    "    print('Bernoulli Naive Bayes version:')\n",
    "    # Create model, fit, and predict\n",
    "    Bnb = BernoulliNB(alpha = 1, binarize=0.0)\n",
    "    Bnb.fit(mini_train_data, mini_train_labels)\n",
    "    Bnb_predictions = Bnb.predict(dev_data)\n",
    "    # Evaluate results\n",
    "    print(classification_report(dev_labels, Bnb_predictions))\n",
    "    #\n",
    "    # Multi-Class Naive Bayes\n",
    "    #\n",
    "    print('Multi-Class Naive Bayes version:')\n",
    "    # Convert grayscale to pixel values to 0, 1, or 2, representing white, grey, or black\n",
    "    multiclass_train_data = np.where(mini_train_data==1,2,mini_train_data)\n",
    "    multiclass_train_data = np.where(np.logical_and(multiclass_train_data>0,multiclass_train_data<2),1,multiclass_train_data)\n",
    "    #print(multiclass_train_data[0,:])\n",
    "    # Create model, fit, and predict\n",
    "    Mnb = MultinomialNB()\n",
    "    Mnb.fit(multiclass_train_data, mini_train_labels)\n",
    "    Mnb_predictions = Mnb.predict(dev_data)\n",
    "    # Evaluate results\n",
    "    print(classification_report(dev_labels, Mnb_predictions))\n",
    "### STUDENT END ###\n",
    "\n",
    "P7()"
   ]
  },
  {
   "cell_type": "markdown",
   "metadata": {},
   "source": [
    "ANSWER:  The Multi-Class Naive Bayes classifier with grayscale converted pixel values to 0, 1, or 2, representing white, grey, or black, performed slightly worse than the Bernoulli Naive Bayes.  The additoinal feature, which intuitively would be highly correlated to the black feature, causes more confusion in differentiating digits and reduces recall/increases the False Negative rate.  The addition of gray makes it more likely to falsely identify certain digits like a 5, which I suppose is caused by fragmenting the information gain of what was formerly 1 feature (black) into two features (black and gray)."
   ]
  },
  {
   "cell_type": "markdown",
   "metadata": {},
   "source": [
    "(8) Use GridSearchCV to perform a search over values of alpha (the Laplace smoothing parameter) in a Bernoulli NB model. What is the best value for alpha? What is the accuracy when alpha=0? Is this what you'd expect?\n",
    "\n",
    "- Note that GridSearchCV partitions the training data so the results will be a bit different than if you used the dev data for evaluation."
   ]
  },
  {
   "cell_type": "code",
   "execution_count": 245,
   "metadata": {},
   "outputs": [
    {
     "name": "stdout",
     "output_type": "stream",
     "text": [
      "Grid Search CV in Bernoulli Naive Bayes for best estimator:\n"
     ]
    },
    {
     "name": "stderr",
     "output_type": "stream",
     "text": [
      "C:\\Users\\mfraz\\Anaconda3\\lib\\site-packages\\sklearn\\naive_bayes.py:472: UserWarning: alpha too small will result in numeric errors, setting alpha = 1.0e-10\n",
      "  'setting alpha = %.1e' % _ALPHA_MIN)\n",
      "C:\\Users\\mfraz\\Anaconda3\\lib\\site-packages\\sklearn\\naive_bayes.py:472: UserWarning: alpha too small will result in numeric errors, setting alpha = 1.0e-10\n",
      "  'setting alpha = %.1e' % _ALPHA_MIN)\n",
      "C:\\Users\\mfraz\\Anaconda3\\lib\\site-packages\\sklearn\\naive_bayes.py:472: UserWarning: alpha too small will result in numeric errors, setting alpha = 1.0e-10\n",
      "  'setting alpha = %.1e' % _ALPHA_MIN)\n"
     ]
    },
    {
     "name": "stdout",
     "output_type": "stream",
     "text": [
      "BernoulliNB(alpha=0.1, binarize=0.0, class_prior=None, fit_prior=True) 0.821\n",
      "             precision    recall  f1-score   support\n",
      "\n",
      "        0.0       0.89      0.96      0.92        99\n",
      "        1.0       0.88      0.95      0.92       105\n",
      "        2.0       0.81      0.78      0.80       102\n",
      "        3.0       0.63      0.74      0.68        86\n",
      "        4.0       0.88      0.78      0.83       104\n",
      "        5.0       0.81      0.67      0.73        91\n",
      "        6.0       0.89      0.89      0.89        98\n",
      "        7.0       0.93      0.77      0.84       113\n",
      "        8.0       0.73      0.77      0.75        96\n",
      "        9.0       0.73      0.82      0.77       106\n",
      "\n",
      "avg / total       0.82      0.82      0.82      1000\n",
      "\n",
      "Bernoulli Naive Bayes with alpha=0 (no smoothing):\n",
      "             precision    recall  f1-score   support\n",
      "\n",
      "        0.0       0.92      0.95      0.94        99\n",
      "        1.0       0.95      0.90      0.93       105\n",
      "        2.0       0.74      0.79      0.77       102\n",
      "        3.0       0.65      0.77      0.70        86\n",
      "        4.0       0.88      0.72      0.79       104\n",
      "        5.0       0.71      0.67      0.69        91\n",
      "        6.0       0.86      0.89      0.87        98\n",
      "        7.0       0.86      0.73      0.79       113\n",
      "        8.0       0.71      0.75      0.73        96\n",
      "        9.0       0.70      0.78      0.74       106\n",
      "\n",
      "avg / total       0.80      0.80      0.80      1000\n",
      "\n"
     ]
    },
    {
     "name": "stderr",
     "output_type": "stream",
     "text": [
      "C:\\Users\\mfraz\\Anaconda3\\lib\\site-packages\\sklearn\\naive_bayes.py:472: UserWarning: alpha too small will result in numeric errors, setting alpha = 1.0e-10\n",
      "  'setting alpha = %.1e' % _ALPHA_MIN)\n"
     ]
    }
   ],
   "source": [
    "def P8(alphas):\n",
    "\n",
    "### STUDENT START ###\n",
    "    #\n",
    "    # Grid Search CV in Bernoulli Naive Bayes\n",
    "    #\n",
    "    # Create model, fit, and predict for best estimator\n",
    "    print('Grid Search CV in Bernoulli Naive Bayes for best estimator:')\n",
    "    Bnb = BernoulliNB(binarize=0.0)\n",
    "    nb = GridSearchCV(Bnb, alphas)\n",
    "    nb.fit(mini_train_data, mini_train_labels)\n",
    "    GS_predictions = nb.predict(dev_data)\n",
    "    # Evaluate results\n",
    "    print(nb.best_estimator_, nb.best_score_)\n",
    "    print(classification_report(dev_labels, GS_predictions))\n",
    "    #\n",
    "    # Create model, fit, and predict for alpha=0\n",
    "    #\n",
    "    print('Bernoulli Naive Bayes with alpha=0 (no smoothing):')\n",
    "    Bnb_unsmoothed = BernoulliNB(alpha=0,binarize=0.0)\n",
    "    Bnb_unsmoothed.fit(mini_train_data, mini_train_labels)\n",
    "    NB_predictions = Bnb_unsmoothed.predict(dev_data)\n",
    "    # Evaluate results\n",
    "    print(classification_report(dev_labels, NB_predictions))\n",
    "    \n",
    "    # Return model for best estimator\n",
    "    return nb\n",
    "### STUDENT END ###\n",
    "\n",
    "alphas = {'alpha': [0.0, 0.0001, 0.001, 0.01, 0.1, 0.5, 1.0, 2.0, 10.0]}\n",
    "nb = P8(alphas)"
   ]
  },
  {
   "cell_type": "code",
   "execution_count": 205,
   "metadata": {},
   "outputs": [
    {
     "name": "stdout",
     "output_type": "stream",
     "text": [
      "{'alpha': 0.1}\n"
     ]
    }
   ],
   "source": [
    "print(nb.best_params_)"
   ]
  },
  {
   "cell_type": "markdown",
   "metadata": {},
   "source": [
    "ANSWER:  While I did receive warnings on some of the Grid Search CV alpha values being too small, it appears that the best alpha/smoothing factor is 0.1.  This is better than no smoothing and this is what I would expect due to the smaller training set.  As such, I would also expect smoothing would not have an improved effect on a much larger training set."
   ]
  },
  {
   "cell_type": "markdown",
   "metadata": {},
   "source": [
    "(9) Try training a model using GuassianNB, which is intended for real-valued features, and evaluate on the dev data. You'll notice that it doesn't work so well. Try to diagnose the problem. You should be able to find a simple fix that returns the accuracy to around the same rate as BernoulliNB. Explain your solution.\n",
    "\n",
    "Hint: examine the parameters estimated by the fit() method, theta\\_ and sigma\\_."
   ]
  },
  {
   "cell_type": "code",
   "execution_count": 157,
   "metadata": {},
   "outputs": [
    {
     "name": "stdout",
     "output_type": "stream",
     "text": [
      "Class prior:\n",
      "[ 0.092  0.106  0.106  0.112  0.091  0.088  0.101  0.101  0.092  0.111]\n",
      "Print max theta_:\n",
      "0.130939368454\n",
      "Sigma maximum variation:\n",
      "[ 0.20580564  0.20862157  0.20867873  0.20761887  0.1980847   0.20300577\n",
      "  0.20332004  0.215839    0.20749018  0.21036249]\n",
      "\n",
      "Initial Model Evaluatoin:\n",
      "             precision    recall  f1-score   support\n",
      "\n",
      "        0.0       0.84      0.75      0.79       110\n",
      "        1.0       0.89      0.82      0.85       113\n",
      "        2.0       0.39      0.62      0.48        65\n",
      "        3.0       0.45      0.62      0.52        63\n",
      "        4.0       0.39      0.80      0.53        51\n",
      "        5.0       0.36      0.52      0.43        64\n",
      "        6.0       0.88      0.69      0.77       125\n",
      "        7.0       0.48      0.84      0.61        64\n",
      "        8.0       0.61      0.41      0.49       145\n",
      "        9.0       0.88      0.47      0.61       200\n",
      "\n",
      "avg / total       0.69      0.62      0.63      1000\n",
      "\n",
      "             precision    recall  f1-score   support\n",
      "\n",
      "        0.0       0.85      0.88      0.86        96\n",
      "        1.0       0.82      0.98      0.89        88\n",
      "        2.0       0.76      0.68      0.72       115\n",
      "        3.0       0.69      0.66      0.67        90\n",
      "        4.0       0.54      0.88      0.67        64\n",
      "        5.0       0.68      0.44      0.54       140\n",
      "        6.0       0.87      0.88      0.87        97\n",
      "        7.0       0.72      0.92      0.81        88\n",
      "        8.0       0.69      0.60      0.64       110\n",
      "        9.0       0.81      0.77      0.79       112\n",
      "\n",
      "avg / total       0.75      0.74      0.74      1000\n",
      "\n"
     ]
    }
   ],
   "source": [
    "def P9():\n",
    "\n",
    "### STUDENT END ###\n",
    "    # fit a Gaussian NB\n",
    "    Gnb = GaussianNB()\n",
    "    Gnb.fit(mini_train_data, mini_train_labels)\n",
    "    Gnb_predictions = Gnb.predict(dev_data)\n",
    "    # check model variation\n",
    "    print('Class prior:')\n",
    "    print(Gnb.class_prior_)\n",
    "    #print(Gnb.coef_)\n",
    "    print('Print max theta_:')\n",
    "    print(np.mean(Gnb.theta_))\n",
    "    print('Sigma maximum variation:')\n",
    "    print(np.max(Gnb.sigma_,1))\n",
    "    # Evaluation\n",
    "    print('\\nInitial Model Evaluatoin:')\n",
    "    print(classification_report(Gnb_predictions, dev_labels))\n",
    "    \n",
    "    Gnb.sigma_ = Gnb.sigma_ * .05\n",
    "    Gnb.theta_ = Gnb.theta_ * 1.5\n",
    "    Gnb_predictions = Gnb.predict(dev_data)\n",
    "    print(classification_report(Gnb_predictions, dev_labels))\n",
    "### STUDENT END ###\n",
    "\n",
    "gnb = P9()"
   ]
  },
  {
   "cell_type": "markdown",
   "metadata": {},
   "source": [
    "ANSWER:  This was the most difficult problem for me and I had to play with sigma and theta to improve the model.  I understand theta is mean of each feature per class and sigma is variance for each feature per but I honestly don't understand how/why these can be manipulated and improve the model."
   ]
  },
  {
   "cell_type": "markdown",
   "metadata": {},
   "source": [
    "(10) Because Naive Bayes is a generative model, we can use the trained model to generate digits. Train a BernoulliNB model and then generate a 10x20 grid with 20 examples of each digit. Because you're using a Bernoulli model, each pixel output will be either 0 or 1. How do the generated digits compare to the training digits?\n",
    "\n",
    "- You can use np.random.rand() to generate random numbers from a uniform distribution\n",
    "- The estimated probability of each pixel is stored in feature\\_log\\_prob\\_. You'll need to use np.exp() to convert a log probability back to a probability."
   ]
  },
  {
   "cell_type": "code",
   "execution_count": 250,
   "metadata": {},
   "outputs": [
    {
     "name": "stdout",
     "output_type": "stream",
     "text": [
      "Generated digits from complete mini training set:\n"
     ]
    },
    {
     "data": {
      "image/png": "[encoded data removed]",
      "text/plain": [
       "<matplotlib.figure.Figure at 0x1730c675f98>"
      ]
     },
     "metadata": {},
     "output_type": "display_data"
    }
   ],
   "source": [
    "def P10(num_examples):\n",
    "\n",
    "### STUDENT START ###\n",
    "    # Create model, fit\n",
    "    Bnb = BernoulliNB(alpha = .1, binarize=0.0)\n",
    "    Bnb.fit(mini_train_data, mini_train_labels)\n",
    "    # Generate estimated pixels and digits from model\n",
    "    est_pixel_prob = np.exp(Bnb.feature_log_prob_)\n",
    "    # Create 2 dim subplot array\n",
    "    fig, axes = plt.subplots(1,10)\n",
    "    print('Generated digits from complete mini training set:')\n",
    "    for x in range(0, len(est_pixel_prob)):\n",
    "        two_d = (np.reshape(est_pixel_prob[x], (28, 28)) * 255).astype(np.uint8)\n",
    "                # Set approprirate subplot with black and white rendering\n",
    "        axes[x].imshow(two_d, cmap='Greys', interpolation='nearest')\n",
    "        axes[x].axis('off')\n",
    "    # Show the plot and subplots\n",
    "    plt.show()\n",
    "### STUDENT END ###\n",
    "\n",
    "P10(20)"
   ]
  },
  {
   "cell_type": "markdown",
   "metadata": {},
   "source": [
    "ANSWER:  I was able to generate digits from the mini training set as shown above.  I don't understand the request for the 10x20 grid of multiple examples of each digit - the feature_log_prob_ appears to work on the entire model and only returns 10 values - one for each digit.  The digits I did generate are definitely blurrly compared to the training set, however the features are clear and you can definitely tell what each one is."
   ]
  },
  {
   "cell_type": "markdown",
   "metadata": {},
   "source": [
    "(11) Remember that a strongly calibrated classifier is rougly 90% accurate when the posterior probability of the predicted class is 0.9. A weakly calibrated classifier is more accurate when the posterior is 90% than when it is 80%. A poorly calibrated classifier has no positive correlation between posterior and accuracy.\n",
    "\n",
    "Train a BernoulliNB model with a reasonable alpha value. For each posterior bucket (think of a bin in a histogram), you want to estimate the classifier's accuracy. So for each prediction, find the bucket the maximum posterior belongs to and update the \"correct\" and \"total\" counters.\n",
    "\n",
    "How would you characterize the calibration for the Naive Bayes model?"
   ]
  },
  {
   "cell_type": "code",
   "execution_count": 240,
   "metadata": {},
   "outputs": [
    {
     "name": "stdout",
     "output_type": "stream",
     "text": [
      "p(pred) <= 0.5000000000000    total =   2    accuracy = 0.000\n",
      "p(pred) <= 0.9000000000000    total =  31    accuracy = 0.387\n",
      "p(pred) <= 0.9990000000000    total =  71    accuracy = 0.493\n",
      "p(pred) <= 0.9999900000000    total =  53    accuracy = 0.434\n",
      "p(pred) <= 0.9999999000000    total =  64    accuracy = 0.609\n",
      "p(pred) <= 0.9999999990000    total =  46    accuracy = 0.543\n",
      "p(pred) <= 0.9999999999900    total =  52    accuracy = 0.808\n",
      "p(pred) <= 0.9999999999999    total =  49    accuracy = 0.796\n",
      "p(pred) <= 1.0000000000000    total = 632    accuracy = 0.951\n"
     ]
    }
   ],
   "source": [
    "def P11(buckets, correct, total):\n",
    "    \n",
    "### STUDENT START ###\n",
    "    # Create model, fit, predictions\n",
    "    Bnb = BernoulliNB(alpha = .1, binarize=0.0)\n",
    "    Bnb.fit(mini_train_data, mini_train_labels)\n",
    "    Bnb_predictions = Bnb.predict(dev_data)\n",
    "    # Create posteriors\n",
    "    Bnb_posterior = Bnb.predict_proba(dev_data)\n",
    "    # Determine bucket index for each prediction/posterior\n",
    "    for i in range(0, len(Bnb_predictions)):\n",
    "        if (np.max(Bnb_posterior[i]) <= 0.5):\n",
    "            bucket_index = 0\n",
    "        elif (np.logical_and(np.max(Bnb_posterior[i]) > 0.5 , np.max(Bnb_posterior[i]) <= 0.9)):\n",
    "            bucket_index = 1\n",
    "        elif (np.logical_and(np.max(Bnb_posterior[i]) > 0.9 , np.max(Bnb_posterior[i]) <= 0.999)):\n",
    "            bucket_index = 2\n",
    "        elif (np.logical_and(np.max(Bnb_posterior[i]) > 0.999 , np.max(Bnb_posterior[i]) <= 0.99999)):\n",
    "            bucket_index = 3\n",
    "        elif (np.logical_and(np.max(Bnb_posterior[i]) > 0.99999 , np.max(Bnb_posterior[i]) <= 0.9999999)):\n",
    "            bucket_index = 4\n",
    "        elif (np.logical_and(np.max(Bnb_posterior[i]) > 0.9999999 , np.max(Bnb_posterior[i]) <= 0.999999999)):\n",
    "            bucket_index = 5\n",
    "        elif (np.logical_and(np.max(Bnb_posterior[i]) > 0.999999999 , np.max(Bnb_posterior[i]) <= 0.99999999999)):\n",
    "            bucket_index = 6\n",
    "        elif (np.logical_and(np.max(Bnb_posterior[i]) > 0.99999999999 , np.max(Bnb_posterior[i]) <= 0.9999999999999)):\n",
    "            bucket_index = 7\n",
    "        elif (np.logical_and(np.max(Bnb_posterior[i]) > 0.9999999999999 , np.max(Bnb_posterior[i]) <= 1.0)):\n",
    "            bucket_index = 8\n",
    "        # Increment total for bucket\n",
    "        total[bucket_index] += 1\n",
    "        # If correct, increment correct tally for bucket\n",
    "        if Bnb_predictions[i] == dev_labels[i]:\n",
    "            correct[bucket_index] +=1\n",
    "            \n",
    "    # Return results\n",
    "    return[buckets, correct, total]\n",
    "### STUDENT END ###\n",
    "\n",
    "buckets = [0.5, 0.9, 0.999, 0.99999, 0.9999999, 0.999999999, 0.99999999999, 0.9999999999999, 1.0]\n",
    "correct = [0 for i in buckets]\n",
    "total = [0 for i in buckets]\n",
    "\n",
    "P11(buckets, correct, total)\n",
    "\n",
    "for i in range(len(buckets)):\n",
    "    accuracy = 0.0\n",
    "    if (total[i] > 0): accuracy = correct[i] / total[i]\n",
    "    print('p(pred) <= %.13f    total = %3d    accuracy = %.3f' %(buckets[i], total[i], accuracy))"
   ]
  },
  {
   "cell_type": "markdown",
   "metadata": {},
   "source": [
    "ANSWER:  Accuracy increases as the posterior increases."
   ]
  },
  {
   "cell_type": "markdown",
   "metadata": {},
   "source": [
    "(12) EXTRA CREDIT\n",
    "\n",
    "Try designing extra features to see if you can improve the performance of Naive Bayes on the dev set. Here are a few ideas to get you started:\n",
    "- Try summing the pixel values in each row and each column.\n",
    "- Try counting the number of enclosed regions; 8 usually has 2 enclosed regions, 9 usually has 1, and 7 usually has 0.\n",
    "\n",
    "Make sure you comment your code well!"
   ]
  },
  {
   "cell_type": "code",
   "execution_count": 273,
   "metadata": {},
   "outputs": [
    {
     "name": "stdout",
     "output_type": "stream",
     "text": [
      "Non binary opening examples:\n"
     ]
    },
    {
     "data": {
      "image/png": "[encoded data removed]",
      "text/plain": [
       "<matplotlib.figure.Figure at 0x173061fe5c0>"
      ]
     },
     "metadata": {},
     "output_type": "display_data"
    },
    {
     "name": "stdout",
     "output_type": "stream",
     "text": [
      "Modded (binary opening) examples:\n"
     ]
    },
    {
     "data": {
      "image/png": "[encoded data removed]",
      "text/plain": [
       "<matplotlib.figure.Figure at 0x1731a8bda58>"
      ]
     },
     "metadata": {},
     "output_type": "display_data"
    },
    {
     "name": "stdout",
     "output_type": "stream",
     "text": [
      "Results of Bernoulli Naive Bayes model with binary opening mods:\n",
      "             precision    recall  f1-score   support\n",
      "\n",
      "        0.0       0.87      0.97      0.92        99\n",
      "        1.0       0.88      0.95      0.92       105\n",
      "        2.0       0.81      0.77      0.79       102\n",
      "        3.0       0.64      0.76      0.69        86\n",
      "        4.0       0.91      0.77      0.83       104\n",
      "        5.0       0.82      0.65      0.72        91\n",
      "        6.0       0.88      0.89      0.88        98\n",
      "        7.0       0.93      0.77      0.84       113\n",
      "        8.0       0.71      0.77      0.74        96\n",
      "        9.0       0.73      0.83      0.78       106\n",
      "\n",
      "avg / total       0.82      0.81      0.82      1000\n",
      "\n"
     ]
    }
   ],
   "source": [
    "def P12():\n",
    "\n",
    "### STUDENT START ###\n",
    "    # Import scipy binary_opening\n",
    "    from scipy.ndimage import binary_opening\n",
    "    \n",
    "    # Testing scipy mods on training data with display\n",
    "    mod_train_data = np.array(mini_train_data)\n",
    "    # Apply binary opening mod\n",
    "    #   applies erosion and dilation to elimnate small objects\n",
    "    # Reference:  http://www.scipy-lectures.org/advanced/image_processing/\n",
    "    for train_digit in range (0, len(mod_train_data)):\n",
    "        mod_train_data[train_digit] = binary_opening(mod_train_data[train_digit])\n",
    "    print('Non binary opening examples:')\n",
    "    fig, axes = plt.subplots(1,10)\n",
    "    for i in range(0,10):\n",
    "        # Convert data vector to 2 dimensional matrix for rendering\n",
    "        two_d = (np.reshape(mini_train_data[i], (28, 28)) * 255).astype(np.uint8)\n",
    "        # Set approprirate subplot with black and white rendering\n",
    "        axes[i].imshow(two_d, cmap='Greys', interpolation='nearest', label='Predicted')\n",
    "        axes[i].axis('off')\n",
    "    plt.show()\n",
    "    # Disply modified examples:\n",
    "    print('Modded (binary opening) examples:')\n",
    "    fig2, axes2 = plt.subplots(1,10)\n",
    "    for j in range(0,10):\n",
    "        # Convert data vector to 2 dimensional matrix for rendering\n",
    "        two_d = (np.reshape(mod_train_data[j], (28, 28)) * 255).astype(np.uint8)\n",
    "        # Set approprirate subplot with black and white rendering\n",
    "        axes2[j].imshow(two_d, cmap='Greys', interpolation='nearest', label='Predicted')\n",
    "        axes2[j].axis('off')\n",
    "    plt.show()\n",
    "    \n",
    "    # Create model, fit, and predict on modded mini training data\n",
    "    print('Results of Bernoulli Naive Bayes model with binary opening mods:')\n",
    "    nb = BernoulliNB(alpha = .1, binarize=0.0)\n",
    "    nb.fit(mod_train_data, mini_train_labels)\n",
    "    nb_predictions = nb.predict(dev_data)\n",
    "    # Evaluate results\n",
    "    print(classification_report(dev_labels, nb_predictions))\n",
    "### STUDENT END ###\n",
    "\n",
    "P12()"
   ]
  },
  {
   "cell_type": "code",
   "execution_count": null,
   "metadata": {
    "collapsed": true
   },
   "outputs": [],
   "source": []
  }
 ],
 "metadata": {
  "kernelspec": {
   "display_name": "Python 3",
   "language": "python",
   "name": "python3"
  },
  "language_info": {
   "codemirror_mode": {
    "name": "ipython",
    "version": 3
   },
   "file_extension": ".py",
   "mimetype": "text/x-python",
   "name": "python",
   "nbconvert_exporter": "python",
   "pygments_lexer": "ipython3",
   "version": "3.6.2"
  }
 },
 "nbformat": 4,
 "nbformat_minor": 1
}
